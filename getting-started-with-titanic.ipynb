{
 "cells": [
  {
   "cell_type": "code",
   "execution_count": 1,
   "id": "1643c8a0",
   "metadata": {
    "_cell_guid": "b1076dfc-b9ad-4769-8c92-a6c4dae69d19",
    "_uuid": "8f2839f25d086af736a60e9eeb907d3b93b6e0e5",
    "execution": {
     "iopub.execute_input": "2022-01-06T15:56:18.960624Z",
     "iopub.status.busy": "2022-01-06T15:56:18.959976Z",
     "iopub.status.idle": "2022-01-06T15:56:18.969008Z",
     "shell.execute_reply": "2022-01-06T15:56:18.969712Z",
     "shell.execute_reply.started": "2022-01-06T15:55:44.392755Z"
    },
    "papermill": {
     "duration": 0.040679,
     "end_time": "2022-01-06T15:56:18.970098",
     "exception": false,
     "start_time": "2022-01-06T15:56:18.929419",
     "status": "completed"
    },
    "tags": []
   },
   "outputs": [
    {
     "name": "stdout",
     "output_type": "stream",
     "text": [
      "/kaggle/input/titanic/train.csv\n",
      "/kaggle/input/titanic/test.csv\n",
      "/kaggle/input/titanic/gender_submission.csv\n"
     ]
    }
   ],
   "source": [
    "# This Python 3 environment comes with many helpful analytics libraries installed\n",
    "# It is defined by the kaggle/python Docker image: https://github.com/kaggle/docker-python\n",
    "# For example, here's several helpful packages to load\n",
    "\n",
    "import numpy as np # linear algebra\n",
    "import pandas as pd # data processing, CSV file I/O (e.g. pd.read_csv)\n",
    "\n",
    "# Input data files are available in the read-only \"../input/\" directory\n",
    "# For example, running this (by clicking run or pressing Shift+Enter) will list all files under the input directory\n",
    "\n",
    "import os\n",
    "for dirname, _, filenames in os.walk('/kaggle/input'):\n",
    "    for filename in filenames:\n",
    "        print(os.path.join(dirname, filename))\n",
    "\n",
    "# You can write up to 20GB to the current directory (/kaggle/working/) that gets preserved as output when you create a version using \"Save & Run All\" \n",
    "# You can also write temporary files to /kaggle/temp/, but they won't be saved outside of the current session"
   ]
  },
  {
   "cell_type": "markdown",
   "id": "de62a6c3",
   "metadata": {
    "papermill": {
     "duration": 0.018153,
     "end_time": "2022-01-06T15:56:19.007624",
     "exception": false,
     "start_time": "2022-01-06T15:56:18.989471",
     "status": "completed"
    },
    "tags": []
   },
   "source": [
    "First we are going to load and look at the data"
   ]
  },
  {
   "cell_type": "code",
   "execution_count": 2,
   "id": "b89e5c6b",
   "metadata": {
    "execution": {
     "iopub.execute_input": "2022-01-06T15:56:19.050128Z",
     "iopub.status.busy": "2022-01-06T15:56:19.047879Z",
     "iopub.status.idle": "2022-01-06T15:56:19.079897Z",
     "shell.execute_reply": "2022-01-06T15:56:19.080465Z",
     "shell.execute_reply.started": "2022-01-06T15:55:44.406122Z"
    },
    "papermill": {
     "duration": 0.054084,
     "end_time": "2022-01-06T15:56:19.080644",
     "exception": false,
     "start_time": "2022-01-06T15:56:19.026560",
     "status": "completed"
    },
    "tags": []
   },
   "outputs": [],
   "source": [
    "train_data = pd.read_csv(\"/kaggle/input/titanic/train.csv\")\n",
    "test_data = pd.read_csv(\"/kaggle/input/titanic/test.csv\")"
   ]
  },
  {
   "cell_type": "code",
   "execution_count": 3,
   "id": "f4ce6c8b",
   "metadata": {
    "execution": {
     "iopub.execute_input": "2022-01-06T15:56:19.122967Z",
     "iopub.status.busy": "2022-01-06T15:56:19.122287Z",
     "iopub.status.idle": "2022-01-06T15:56:19.146379Z",
     "shell.execute_reply": "2022-01-06T15:56:19.146877Z",
     "shell.execute_reply.started": "2022-01-06T15:55:44.431718Z"
    },
    "papermill": {
     "duration": 0.04596,
     "end_time": "2022-01-06T15:56:19.147044",
     "exception": false,
     "start_time": "2022-01-06T15:56:19.101084",
     "status": "completed"
    },
    "tags": []
   },
   "outputs": [
    {
     "data": {
      "text/html": [
       "<div>\n",
       "<style scoped>\n",
       "    .dataframe tbody tr th:only-of-type {\n",
       "        vertical-align: middle;\n",
       "    }\n",
       "\n",
       "    .dataframe tbody tr th {\n",
       "        vertical-align: top;\n",
       "    }\n",
       "\n",
       "    .dataframe thead th {\n",
       "        text-align: right;\n",
       "    }\n",
       "</style>\n",
       "<table border=\"1\" class=\"dataframe\">\n",
       "  <thead>\n",
       "    <tr style=\"text-align: right;\">\n",
       "      <th></th>\n",
       "      <th>PassengerId</th>\n",
       "      <th>Survived</th>\n",
       "      <th>Pclass</th>\n",
       "      <th>Name</th>\n",
       "      <th>Sex</th>\n",
       "      <th>Age</th>\n",
       "      <th>SibSp</th>\n",
       "      <th>Parch</th>\n",
       "      <th>Ticket</th>\n",
       "      <th>Fare</th>\n",
       "      <th>Cabin</th>\n",
       "      <th>Embarked</th>\n",
       "    </tr>\n",
       "  </thead>\n",
       "  <tbody>\n",
       "    <tr>\n",
       "      <th>0</th>\n",
       "      <td>1</td>\n",
       "      <td>0</td>\n",
       "      <td>3</td>\n",
       "      <td>Braund, Mr. Owen Harris</td>\n",
       "      <td>male</td>\n",
       "      <td>22.0</td>\n",
       "      <td>1</td>\n",
       "      <td>0</td>\n",
       "      <td>A/5 21171</td>\n",
       "      <td>7.2500</td>\n",
       "      <td>NaN</td>\n",
       "      <td>S</td>\n",
       "    </tr>\n",
       "    <tr>\n",
       "      <th>1</th>\n",
       "      <td>2</td>\n",
       "      <td>1</td>\n",
       "      <td>1</td>\n",
       "      <td>Cumings, Mrs. John Bradley (Florence Briggs Th...</td>\n",
       "      <td>female</td>\n",
       "      <td>38.0</td>\n",
       "      <td>1</td>\n",
       "      <td>0</td>\n",
       "      <td>PC 17599</td>\n",
       "      <td>71.2833</td>\n",
       "      <td>C85</td>\n",
       "      <td>C</td>\n",
       "    </tr>\n",
       "    <tr>\n",
       "      <th>2</th>\n",
       "      <td>3</td>\n",
       "      <td>1</td>\n",
       "      <td>3</td>\n",
       "      <td>Heikkinen, Miss. Laina</td>\n",
       "      <td>female</td>\n",
       "      <td>26.0</td>\n",
       "      <td>0</td>\n",
       "      <td>0</td>\n",
       "      <td>STON/O2. 3101282</td>\n",
       "      <td>7.9250</td>\n",
       "      <td>NaN</td>\n",
       "      <td>S</td>\n",
       "    </tr>\n",
       "    <tr>\n",
       "      <th>3</th>\n",
       "      <td>4</td>\n",
       "      <td>1</td>\n",
       "      <td>1</td>\n",
       "      <td>Futrelle, Mrs. Jacques Heath (Lily May Peel)</td>\n",
       "      <td>female</td>\n",
       "      <td>35.0</td>\n",
       "      <td>1</td>\n",
       "      <td>0</td>\n",
       "      <td>113803</td>\n",
       "      <td>53.1000</td>\n",
       "      <td>C123</td>\n",
       "      <td>S</td>\n",
       "    </tr>\n",
       "    <tr>\n",
       "      <th>4</th>\n",
       "      <td>5</td>\n",
       "      <td>0</td>\n",
       "      <td>3</td>\n",
       "      <td>Allen, Mr. William Henry</td>\n",
       "      <td>male</td>\n",
       "      <td>35.0</td>\n",
       "      <td>0</td>\n",
       "      <td>0</td>\n",
       "      <td>373450</td>\n",
       "      <td>8.0500</td>\n",
       "      <td>NaN</td>\n",
       "      <td>S</td>\n",
       "    </tr>\n",
       "  </tbody>\n",
       "</table>\n",
       "</div>"
      ],
      "text/plain": [
       "   PassengerId  Survived  Pclass  \\\n",
       "0            1         0       3   \n",
       "1            2         1       1   \n",
       "2            3         1       3   \n",
       "3            4         1       1   \n",
       "4            5         0       3   \n",
       "\n",
       "                                                Name     Sex   Age  SibSp  \\\n",
       "0                            Braund, Mr. Owen Harris    male  22.0      1   \n",
       "1  Cumings, Mrs. John Bradley (Florence Briggs Th...  female  38.0      1   \n",
       "2                             Heikkinen, Miss. Laina  female  26.0      0   \n",
       "3       Futrelle, Mrs. Jacques Heath (Lily May Peel)  female  35.0      1   \n",
       "4                           Allen, Mr. William Henry    male  35.0      0   \n",
       "\n",
       "   Parch            Ticket     Fare Cabin Embarked  \n",
       "0      0         A/5 21171   7.2500   NaN        S  \n",
       "1      0          PC 17599  71.2833   C85        C  \n",
       "2      0  STON/O2. 3101282   7.9250   NaN        S  \n",
       "3      0            113803  53.1000  C123        S  \n",
       "4      0            373450   8.0500   NaN        S  "
      ]
     },
     "execution_count": 3,
     "metadata": {},
     "output_type": "execute_result"
    }
   ],
   "source": [
    "train_data.head()"
   ]
  },
  {
   "cell_type": "code",
   "execution_count": 4,
   "id": "b9e999c6",
   "metadata": {
    "execution": {
     "iopub.execute_input": "2022-01-06T15:56:19.188171Z",
     "iopub.status.busy": "2022-01-06T15:56:19.187515Z",
     "iopub.status.idle": "2022-01-06T15:56:19.195955Z",
     "shell.execute_reply": "2022-01-06T15:56:19.195407Z",
     "shell.execute_reply.started": "2022-01-06T15:55:44.450877Z"
    },
    "papermill": {
     "duration": 0.029904,
     "end_time": "2022-01-06T15:56:19.196099",
     "exception": false,
     "start_time": "2022-01-06T15:56:19.166195",
     "status": "completed"
    },
    "tags": []
   },
   "outputs": [
    {
     "data": {
      "text/plain": [
       "PassengerId      0\n",
       "Survived         0\n",
       "Pclass           0\n",
       "Name             0\n",
       "Sex              0\n",
       "Age            177\n",
       "SibSp            0\n",
       "Parch            0\n",
       "Ticket           0\n",
       "Fare             0\n",
       "Cabin          687\n",
       "Embarked         2\n",
       "dtype: int64"
      ]
     },
     "execution_count": 4,
     "metadata": {},
     "output_type": "execute_result"
    }
   ],
   "source": [
    "train_data.isnull().sum()"
   ]
  },
  {
   "cell_type": "code",
   "execution_count": 5,
   "id": "0ddb15b8",
   "metadata": {
    "execution": {
     "iopub.execute_input": "2022-01-06T15:56:19.245011Z",
     "iopub.status.busy": "2022-01-06T15:56:19.244302Z",
     "iopub.status.idle": "2022-01-06T15:56:19.277085Z",
     "shell.execute_reply": "2022-01-06T15:56:19.277572Z",
     "shell.execute_reply.started": "2022-01-06T15:55:44.464063Z"
    },
    "papermill": {
     "duration": 0.06223,
     "end_time": "2022-01-06T15:56:19.277736",
     "exception": false,
     "start_time": "2022-01-06T15:56:19.215506",
     "status": "completed"
    },
    "tags": []
   },
   "outputs": [
    {
     "data": {
      "text/html": [
       "<div>\n",
       "<style scoped>\n",
       "    .dataframe tbody tr th:only-of-type {\n",
       "        vertical-align: middle;\n",
       "    }\n",
       "\n",
       "    .dataframe tbody tr th {\n",
       "        vertical-align: top;\n",
       "    }\n",
       "\n",
       "    .dataframe thead th {\n",
       "        text-align: right;\n",
       "    }\n",
       "</style>\n",
       "<table border=\"1\" class=\"dataframe\">\n",
       "  <thead>\n",
       "    <tr style=\"text-align: right;\">\n",
       "      <th></th>\n",
       "      <th>PassengerId</th>\n",
       "      <th>Survived</th>\n",
       "      <th>Pclass</th>\n",
       "      <th>Age</th>\n",
       "      <th>SibSp</th>\n",
       "      <th>Parch</th>\n",
       "      <th>Fare</th>\n",
       "    </tr>\n",
       "  </thead>\n",
       "  <tbody>\n",
       "    <tr>\n",
       "      <th>count</th>\n",
       "      <td>891.000000</td>\n",
       "      <td>891.000000</td>\n",
       "      <td>891.000000</td>\n",
       "      <td>714.000000</td>\n",
       "      <td>891.000000</td>\n",
       "      <td>891.000000</td>\n",
       "      <td>891.000000</td>\n",
       "    </tr>\n",
       "    <tr>\n",
       "      <th>mean</th>\n",
       "      <td>446.000000</td>\n",
       "      <td>0.383838</td>\n",
       "      <td>2.308642</td>\n",
       "      <td>29.699118</td>\n",
       "      <td>0.523008</td>\n",
       "      <td>0.381594</td>\n",
       "      <td>32.204208</td>\n",
       "    </tr>\n",
       "    <tr>\n",
       "      <th>std</th>\n",
       "      <td>257.353842</td>\n",
       "      <td>0.486592</td>\n",
       "      <td>0.836071</td>\n",
       "      <td>14.526497</td>\n",
       "      <td>1.102743</td>\n",
       "      <td>0.806057</td>\n",
       "      <td>49.693429</td>\n",
       "    </tr>\n",
       "    <tr>\n",
       "      <th>min</th>\n",
       "      <td>1.000000</td>\n",
       "      <td>0.000000</td>\n",
       "      <td>1.000000</td>\n",
       "      <td>0.420000</td>\n",
       "      <td>0.000000</td>\n",
       "      <td>0.000000</td>\n",
       "      <td>0.000000</td>\n",
       "    </tr>\n",
       "    <tr>\n",
       "      <th>25%</th>\n",
       "      <td>223.500000</td>\n",
       "      <td>0.000000</td>\n",
       "      <td>2.000000</td>\n",
       "      <td>20.125000</td>\n",
       "      <td>0.000000</td>\n",
       "      <td>0.000000</td>\n",
       "      <td>7.910400</td>\n",
       "    </tr>\n",
       "    <tr>\n",
       "      <th>50%</th>\n",
       "      <td>446.000000</td>\n",
       "      <td>0.000000</td>\n",
       "      <td>3.000000</td>\n",
       "      <td>28.000000</td>\n",
       "      <td>0.000000</td>\n",
       "      <td>0.000000</td>\n",
       "      <td>14.454200</td>\n",
       "    </tr>\n",
       "    <tr>\n",
       "      <th>75%</th>\n",
       "      <td>668.500000</td>\n",
       "      <td>1.000000</td>\n",
       "      <td>3.000000</td>\n",
       "      <td>38.000000</td>\n",
       "      <td>1.000000</td>\n",
       "      <td>0.000000</td>\n",
       "      <td>31.000000</td>\n",
       "    </tr>\n",
       "    <tr>\n",
       "      <th>max</th>\n",
       "      <td>891.000000</td>\n",
       "      <td>1.000000</td>\n",
       "      <td>3.000000</td>\n",
       "      <td>80.000000</td>\n",
       "      <td>8.000000</td>\n",
       "      <td>6.000000</td>\n",
       "      <td>512.329200</td>\n",
       "    </tr>\n",
       "  </tbody>\n",
       "</table>\n",
       "</div>"
      ],
      "text/plain": [
       "       PassengerId    Survived      Pclass         Age       SibSp  \\\n",
       "count   891.000000  891.000000  891.000000  714.000000  891.000000   \n",
       "mean    446.000000    0.383838    2.308642   29.699118    0.523008   \n",
       "std     257.353842    0.486592    0.836071   14.526497    1.102743   \n",
       "min       1.000000    0.000000    1.000000    0.420000    0.000000   \n",
       "25%     223.500000    0.000000    2.000000   20.125000    0.000000   \n",
       "50%     446.000000    0.000000    3.000000   28.000000    0.000000   \n",
       "75%     668.500000    1.000000    3.000000   38.000000    1.000000   \n",
       "max     891.000000    1.000000    3.000000   80.000000    8.000000   \n",
       "\n",
       "            Parch        Fare  \n",
       "count  891.000000  891.000000  \n",
       "mean     0.381594   32.204208  \n",
       "std      0.806057   49.693429  \n",
       "min      0.000000    0.000000  \n",
       "25%      0.000000    7.910400  \n",
       "50%      0.000000   14.454200  \n",
       "75%      0.000000   31.000000  \n",
       "max      6.000000  512.329200  "
      ]
     },
     "execution_count": 5,
     "metadata": {},
     "output_type": "execute_result"
    }
   ],
   "source": [
    "train_data.describe()"
   ]
  },
  {
   "cell_type": "code",
   "execution_count": 6,
   "id": "1af30227",
   "metadata": {
    "execution": {
     "iopub.execute_input": "2022-01-06T15:56:19.325966Z",
     "iopub.status.busy": "2022-01-06T15:56:19.325293Z",
     "iopub.status.idle": "2022-01-06T15:56:19.327698Z",
     "shell.execute_reply": "2022-01-06T15:56:19.328230Z",
     "shell.execute_reply.started": "2022-01-06T15:55:44.497224Z"
    },
    "papermill": {
     "duration": 0.030832,
     "end_time": "2022-01-06T15:56:19.328398",
     "exception": false,
     "start_time": "2022-01-06T15:56:19.297566",
     "status": "completed"
    },
    "tags": []
   },
   "outputs": [
    {
     "data": {
      "text/plain": [
       "PassengerId      0\n",
       "Pclass           0\n",
       "Name             0\n",
       "Sex              0\n",
       "Age             86\n",
       "SibSp            0\n",
       "Parch            0\n",
       "Ticket           0\n",
       "Fare             1\n",
       "Cabin          327\n",
       "Embarked         0\n",
       "dtype: int64"
      ]
     },
     "execution_count": 6,
     "metadata": {},
     "output_type": "execute_result"
    }
   ],
   "source": [
    "test_data.isnull().sum()"
   ]
  },
  {
   "cell_type": "markdown",
   "id": "4c266d70",
   "metadata": {
    "papermill": {
     "duration": 0.020056,
     "end_time": "2022-01-06T15:56:19.368809",
     "exception": false,
     "start_time": "2022-01-06T15:56:19.348753",
     "status": "completed"
    },
    "tags": []
   },
   "source": [
    "**Data Cleaning**"
   ]
  },
  {
   "cell_type": "markdown",
   "id": "6bd74553",
   "metadata": {
    "papermill": {
     "duration": 0.020004,
     "end_time": "2022-01-06T15:56:19.409198",
     "exception": false,
     "start_time": "2022-01-06T15:56:19.389194",
     "status": "completed"
    },
    "tags": []
   },
   "source": [
    "There are no visible outliers. \n",
    "\n",
    "But we have: \n",
    "\n",
    "* 177 missing values in 'Age'. We can fill these missing values with the median. \n",
    "* 687 missing values in 'Cabin'. There is too many missing values, so we should drop this one. \n",
    "* 2 missing values in 'Embarked'. We can fill these with the most frequently value. \n",
    "\n",
    "Variables 'Name' and 'Ticket' does not give us useful info so we can drop them. \n",
    "\n",
    "We also have categorical variables 'Sex' and 'Embarked'. I will use get_gummies to convert these categorical variable into dummy/indicator variables.  \n",
    "\n",
    "In the test_data we have also missing values in 'Fare', so we can fill it with the mean. "
   ]
  },
  {
   "cell_type": "code",
   "execution_count": 7,
   "id": "86c5d62c",
   "metadata": {
    "execution": {
     "iopub.execute_input": "2022-01-06T15:56:19.457050Z",
     "iopub.status.busy": "2022-01-06T15:56:19.452801Z",
     "iopub.status.idle": "2022-01-06T15:56:19.459817Z",
     "shell.execute_reply": "2022-01-06T15:56:19.460318Z",
     "shell.execute_reply.started": "2022-01-06T15:55:44.509541Z"
    },
    "papermill": {
     "duration": 0.030773,
     "end_time": "2022-01-06T15:56:19.460479",
     "exception": false,
     "start_time": "2022-01-06T15:56:19.429706",
     "status": "completed"
    },
    "tags": []
   },
   "outputs": [
    {
     "data": {
      "text/plain": [
       "S    644\n",
       "C    168\n",
       "Q     77\n",
       "Name: Embarked, dtype: int64"
      ]
     },
     "execution_count": 7,
     "metadata": {},
     "output_type": "execute_result"
    }
   ],
   "source": [
    "train_data['Embarked'].value_counts()\n",
    "#the most frequently value is S"
   ]
  },
  {
   "cell_type": "code",
   "execution_count": 8,
   "id": "89471985",
   "metadata": {
    "execution": {
     "iopub.execute_input": "2022-01-06T15:56:19.504668Z",
     "iopub.status.busy": "2022-01-06T15:56:19.504064Z",
     "iopub.status.idle": "2022-01-06T15:56:19.513878Z",
     "shell.execute_reply": "2022-01-06T15:56:19.514333Z",
     "shell.execute_reply.started": "2022-01-06T15:55:44.523665Z"
    },
    "papermill": {
     "duration": 0.033347,
     "end_time": "2022-01-06T15:56:19.514499",
     "exception": false,
     "start_time": "2022-01-06T15:56:19.481152",
     "status": "completed"
    },
    "tags": []
   },
   "outputs": [],
   "source": [
    "data=[train_data, test_data]\n",
    "for dataset in data:\n",
    "    \n",
    "    dataset['Age'] = dataset['Age'].replace(np.NaN, dataset['Age'].mean())\n",
    "    dataset['Embarked'] = dataset['Embarked'].fillna('S')\n",
    "    dataset.drop(['Cabin','Name','Ticket'], axis=1, inplace=True)\n",
    "    dataset['Fare'] = dataset['Fare'].replace(np.NaN, dataset['Fare'].mean())\n"
   ]
  },
  {
   "cell_type": "code",
   "execution_count": 9,
   "id": "9bea37b0",
   "metadata": {
    "execution": {
     "iopub.execute_input": "2022-01-06T15:56:19.570217Z",
     "iopub.status.busy": "2022-01-06T15:56:19.569385Z",
     "iopub.status.idle": "2022-01-06T15:56:19.572649Z",
     "shell.execute_reply": "2022-01-06T15:56:19.573199Z",
     "shell.execute_reply.started": "2022-01-06T15:55:44.539523Z"
    },
    "papermill": {
     "duration": 0.038407,
     "end_time": "2022-01-06T15:56:19.573368",
     "exception": false,
     "start_time": "2022-01-06T15:56:19.534961",
     "status": "completed"
    },
    "tags": []
   },
   "outputs": [
    {
     "name": "stdout",
     "output_type": "stream",
     "text": [
      "<class 'pandas.core.frame.DataFrame'>\n",
      "RangeIndex: 891 entries, 0 to 890\n",
      "Data columns (total 9 columns):\n",
      " #   Column       Non-Null Count  Dtype  \n",
      "---  ------       --------------  -----  \n",
      " 0   PassengerId  891 non-null    int64  \n",
      " 1   Survived     891 non-null    int64  \n",
      " 2   Pclass       891 non-null    int64  \n",
      " 3   Sex          891 non-null    object \n",
      " 4   Age          891 non-null    float64\n",
      " 5   SibSp        891 non-null    int64  \n",
      " 6   Parch        891 non-null    int64  \n",
      " 7   Fare         891 non-null    float64\n",
      " 8   Embarked     891 non-null    object \n",
      "dtypes: float64(2), int64(5), object(2)\n",
      "memory usage: 62.8+ KB\n"
     ]
    }
   ],
   "source": [
    "train_data.info()"
   ]
  },
  {
   "cell_type": "code",
   "execution_count": 10,
   "id": "987d5d57",
   "metadata": {
    "execution": {
     "iopub.execute_input": "2022-01-06T15:56:19.628608Z",
     "iopub.status.busy": "2022-01-06T15:56:19.627909Z",
     "iopub.status.idle": "2022-01-06T15:56:19.631008Z",
     "shell.execute_reply": "2022-01-06T15:56:19.631523Z",
     "shell.execute_reply.started": "2022-01-06T15:55:44.554997Z"
    },
    "papermill": {
     "duration": 0.037242,
     "end_time": "2022-01-06T15:56:19.631691",
     "exception": false,
     "start_time": "2022-01-06T15:56:19.594449",
     "status": "completed"
    },
    "tags": []
   },
   "outputs": [
    {
     "name": "stdout",
     "output_type": "stream",
     "text": [
      "<class 'pandas.core.frame.DataFrame'>\n",
      "RangeIndex: 418 entries, 0 to 417\n",
      "Data columns (total 8 columns):\n",
      " #   Column       Non-Null Count  Dtype  \n",
      "---  ------       --------------  -----  \n",
      " 0   PassengerId  418 non-null    int64  \n",
      " 1   Pclass       418 non-null    int64  \n",
      " 2   Sex          418 non-null    object \n",
      " 3   Age          418 non-null    float64\n",
      " 4   SibSp        418 non-null    int64  \n",
      " 5   Parch        418 non-null    int64  \n",
      " 6   Fare         418 non-null    float64\n",
      " 7   Embarked     418 non-null    object \n",
      "dtypes: float64(2), int64(4), object(2)\n",
      "memory usage: 26.2+ KB\n"
     ]
    }
   ],
   "source": [
    "test_data.info()"
   ]
  },
  {
   "cell_type": "markdown",
   "id": "1a742ee4",
   "metadata": {
    "papermill": {
     "duration": 0.021361,
     "end_time": "2022-01-06T15:56:19.674772",
     "exception": false,
     "start_time": "2022-01-06T15:56:19.653411",
     "status": "completed"
    },
    "tags": []
   },
   "source": [
    "**Data modeling**"
   ]
  },
  {
   "cell_type": "code",
   "execution_count": 11,
   "id": "ee3d7c36",
   "metadata": {
    "execution": {
     "iopub.execute_input": "2022-01-06T15:56:19.727899Z",
     "iopub.status.busy": "2022-01-06T15:56:19.727169Z",
     "iopub.status.idle": "2022-01-06T15:56:19.746793Z",
     "shell.execute_reply": "2022-01-06T15:56:19.747473Z",
     "shell.execute_reply.started": "2022-01-06T15:55:44.572856Z"
    },
    "papermill": {
     "duration": 0.051312,
     "end_time": "2022-01-06T15:56:19.747657",
     "exception": false,
     "start_time": "2022-01-06T15:56:19.696345",
     "status": "completed"
    },
    "tags": []
   },
   "outputs": [
    {
     "data": {
      "text/html": [
       "<div>\n",
       "<style scoped>\n",
       "    .dataframe tbody tr th:only-of-type {\n",
       "        vertical-align: middle;\n",
       "    }\n",
       "\n",
       "    .dataframe tbody tr th {\n",
       "        vertical-align: top;\n",
       "    }\n",
       "\n",
       "    .dataframe thead th {\n",
       "        text-align: right;\n",
       "    }\n",
       "</style>\n",
       "<table border=\"1\" class=\"dataframe\">\n",
       "  <thead>\n",
       "    <tr style=\"text-align: right;\">\n",
       "      <th></th>\n",
       "      <th>PassengerId</th>\n",
       "      <th>Pclass</th>\n",
       "      <th>Age</th>\n",
       "      <th>SibSp</th>\n",
       "      <th>Parch</th>\n",
       "      <th>Fare</th>\n",
       "      <th>Sex_female</th>\n",
       "      <th>Sex_male</th>\n",
       "      <th>Embarked_C</th>\n",
       "      <th>Embarked_Q</th>\n",
       "      <th>Embarked_S</th>\n",
       "    </tr>\n",
       "  </thead>\n",
       "  <tbody>\n",
       "    <tr>\n",
       "      <th>0</th>\n",
       "      <td>1</td>\n",
       "      <td>3</td>\n",
       "      <td>22.0</td>\n",
       "      <td>1</td>\n",
       "      <td>0</td>\n",
       "      <td>7.2500</td>\n",
       "      <td>0</td>\n",
       "      <td>1</td>\n",
       "      <td>0</td>\n",
       "      <td>0</td>\n",
       "      <td>1</td>\n",
       "    </tr>\n",
       "    <tr>\n",
       "      <th>1</th>\n",
       "      <td>2</td>\n",
       "      <td>1</td>\n",
       "      <td>38.0</td>\n",
       "      <td>1</td>\n",
       "      <td>0</td>\n",
       "      <td>71.2833</td>\n",
       "      <td>1</td>\n",
       "      <td>0</td>\n",
       "      <td>1</td>\n",
       "      <td>0</td>\n",
       "      <td>0</td>\n",
       "    </tr>\n",
       "    <tr>\n",
       "      <th>2</th>\n",
       "      <td>3</td>\n",
       "      <td>3</td>\n",
       "      <td>26.0</td>\n",
       "      <td>0</td>\n",
       "      <td>0</td>\n",
       "      <td>7.9250</td>\n",
       "      <td>1</td>\n",
       "      <td>0</td>\n",
       "      <td>0</td>\n",
       "      <td>0</td>\n",
       "      <td>1</td>\n",
       "    </tr>\n",
       "    <tr>\n",
       "      <th>3</th>\n",
       "      <td>4</td>\n",
       "      <td>1</td>\n",
       "      <td>35.0</td>\n",
       "      <td>1</td>\n",
       "      <td>0</td>\n",
       "      <td>53.1000</td>\n",
       "      <td>1</td>\n",
       "      <td>0</td>\n",
       "      <td>0</td>\n",
       "      <td>0</td>\n",
       "      <td>1</td>\n",
       "    </tr>\n",
       "    <tr>\n",
       "      <th>4</th>\n",
       "      <td>5</td>\n",
       "      <td>3</td>\n",
       "      <td>35.0</td>\n",
       "      <td>0</td>\n",
       "      <td>0</td>\n",
       "      <td>8.0500</td>\n",
       "      <td>0</td>\n",
       "      <td>1</td>\n",
       "      <td>0</td>\n",
       "      <td>0</td>\n",
       "      <td>1</td>\n",
       "    </tr>\n",
       "  </tbody>\n",
       "</table>\n",
       "</div>"
      ],
      "text/plain": [
       "   PassengerId  Pclass   Age  SibSp  Parch     Fare  Sex_female  Sex_male  \\\n",
       "0            1       3  22.0      1      0   7.2500           0         1   \n",
       "1            2       1  38.0      1      0  71.2833           1         0   \n",
       "2            3       3  26.0      0      0   7.9250           1         0   \n",
       "3            4       1  35.0      1      0  53.1000           1         0   \n",
       "4            5       3  35.0      0      0   8.0500           0         1   \n",
       "\n",
       "   Embarked_C  Embarked_Q  Embarked_S  \n",
       "0           0           0           1  \n",
       "1           1           0           0  \n",
       "2           0           0           1  \n",
       "3           0           0           1  \n",
       "4           0           0           1  "
      ]
     },
     "execution_count": 11,
     "metadata": {},
     "output_type": "execute_result"
    }
   ],
   "source": [
    "X = train_data.drop('Survived', axis=1)\n",
    "X = pd.get_dummies(X)\n",
    "X.head()"
   ]
  },
  {
   "cell_type": "code",
   "execution_count": 12,
   "id": "9195712c",
   "metadata": {
    "execution": {
     "iopub.execute_input": "2022-01-06T15:56:19.803315Z",
     "iopub.status.busy": "2022-01-06T15:56:19.802643Z",
     "iopub.status.idle": "2022-01-06T15:56:19.810381Z",
     "shell.execute_reply": "2022-01-06T15:56:19.811024Z",
     "shell.execute_reply.started": "2022-01-06T15:55:44.597932Z"
    },
    "papermill": {
     "duration": 0.037647,
     "end_time": "2022-01-06T15:56:19.811194",
     "exception": false,
     "start_time": "2022-01-06T15:56:19.773547",
     "status": "completed"
    },
    "tags": []
   },
   "outputs": [
    {
     "data": {
      "text/plain": [
       "0    0\n",
       "1    1\n",
       "2    1\n",
       "3    1\n",
       "4    0\n",
       "Name: Survived, dtype: int64"
      ]
     },
     "execution_count": 12,
     "metadata": {},
     "output_type": "execute_result"
    }
   ],
   "source": [
    "Y = train_data['Survived']\n",
    "Y.head()"
   ]
  },
  {
   "cell_type": "code",
   "execution_count": 13,
   "id": "d8e117d1",
   "metadata": {
    "execution": {
     "iopub.execute_input": "2022-01-06T15:56:19.870390Z",
     "iopub.status.busy": "2022-01-06T15:56:19.869333Z",
     "iopub.status.idle": "2022-01-06T15:56:19.873280Z",
     "shell.execute_reply": "2022-01-06T15:56:19.874065Z",
     "shell.execute_reply.started": "2022-01-06T15:55:44.607563Z"
    },
    "papermill": {
     "duration": 0.040496,
     "end_time": "2022-01-06T15:56:19.874303",
     "exception": false,
     "start_time": "2022-01-06T15:56:19.833807",
     "status": "completed"
    },
    "tags": []
   },
   "outputs": [
    {
     "data": {
      "text/html": [
       "<div>\n",
       "<style scoped>\n",
       "    .dataframe tbody tr th:only-of-type {\n",
       "        vertical-align: middle;\n",
       "    }\n",
       "\n",
       "    .dataframe tbody tr th {\n",
       "        vertical-align: top;\n",
       "    }\n",
       "\n",
       "    .dataframe thead th {\n",
       "        text-align: right;\n",
       "    }\n",
       "</style>\n",
       "<table border=\"1\" class=\"dataframe\">\n",
       "  <thead>\n",
       "    <tr style=\"text-align: right;\">\n",
       "      <th></th>\n",
       "      <th>PassengerId</th>\n",
       "      <th>Pclass</th>\n",
       "      <th>Sex</th>\n",
       "      <th>Age</th>\n",
       "      <th>SibSp</th>\n",
       "      <th>Parch</th>\n",
       "      <th>Fare</th>\n",
       "      <th>Embarked</th>\n",
       "    </tr>\n",
       "  </thead>\n",
       "  <tbody>\n",
       "    <tr>\n",
       "      <th>0</th>\n",
       "      <td>892</td>\n",
       "      <td>3</td>\n",
       "      <td>male</td>\n",
       "      <td>34.5</td>\n",
       "      <td>0</td>\n",
       "      <td>0</td>\n",
       "      <td>7.8292</td>\n",
       "      <td>Q</td>\n",
       "    </tr>\n",
       "    <tr>\n",
       "      <th>1</th>\n",
       "      <td>893</td>\n",
       "      <td>3</td>\n",
       "      <td>female</td>\n",
       "      <td>47.0</td>\n",
       "      <td>1</td>\n",
       "      <td>0</td>\n",
       "      <td>7.0000</td>\n",
       "      <td>S</td>\n",
       "    </tr>\n",
       "    <tr>\n",
       "      <th>2</th>\n",
       "      <td>894</td>\n",
       "      <td>2</td>\n",
       "      <td>male</td>\n",
       "      <td>62.0</td>\n",
       "      <td>0</td>\n",
       "      <td>0</td>\n",
       "      <td>9.6875</td>\n",
       "      <td>Q</td>\n",
       "    </tr>\n",
       "    <tr>\n",
       "      <th>3</th>\n",
       "      <td>895</td>\n",
       "      <td>3</td>\n",
       "      <td>male</td>\n",
       "      <td>27.0</td>\n",
       "      <td>0</td>\n",
       "      <td>0</td>\n",
       "      <td>8.6625</td>\n",
       "      <td>S</td>\n",
       "    </tr>\n",
       "    <tr>\n",
       "      <th>4</th>\n",
       "      <td>896</td>\n",
       "      <td>3</td>\n",
       "      <td>female</td>\n",
       "      <td>22.0</td>\n",
       "      <td>1</td>\n",
       "      <td>1</td>\n",
       "      <td>12.2875</td>\n",
       "      <td>S</td>\n",
       "    </tr>\n",
       "  </tbody>\n",
       "</table>\n",
       "</div>"
      ],
      "text/plain": [
       "   PassengerId  Pclass     Sex   Age  SibSp  Parch     Fare Embarked\n",
       "0          892       3    male  34.5      0      0   7.8292        Q\n",
       "1          893       3  female  47.0      1      0   7.0000        S\n",
       "2          894       2    male  62.0      0      0   9.6875        Q\n",
       "3          895       3    male  27.0      0      0   8.6625        S\n",
       "4          896       3  female  22.0      1      1  12.2875        S"
      ]
     },
     "execution_count": 13,
     "metadata": {},
     "output_type": "execute_result"
    }
   ],
   "source": [
    "test_data.head()"
   ]
  },
  {
   "cell_type": "code",
   "execution_count": 14,
   "id": "eb03bec2",
   "metadata": {
    "execution": {
     "iopub.execute_input": "2022-01-06T15:56:19.932476Z",
     "iopub.status.busy": "2022-01-06T15:56:19.931880Z",
     "iopub.status.idle": "2022-01-06T15:56:19.949546Z",
     "shell.execute_reply": "2022-01-06T15:56:19.950058Z",
     "shell.execute_reply.started": "2022-01-06T15:55:44.629343Z"
    },
    "papermill": {
     "duration": 0.043928,
     "end_time": "2022-01-06T15:56:19.950236",
     "exception": false,
     "start_time": "2022-01-06T15:56:19.906308",
     "status": "completed"
    },
    "tags": []
   },
   "outputs": [
    {
     "data": {
      "text/html": [
       "<div>\n",
       "<style scoped>\n",
       "    .dataframe tbody tr th:only-of-type {\n",
       "        vertical-align: middle;\n",
       "    }\n",
       "\n",
       "    .dataframe tbody tr th {\n",
       "        vertical-align: top;\n",
       "    }\n",
       "\n",
       "    .dataframe thead th {\n",
       "        text-align: right;\n",
       "    }\n",
       "</style>\n",
       "<table border=\"1\" class=\"dataframe\">\n",
       "  <thead>\n",
       "    <tr style=\"text-align: right;\">\n",
       "      <th></th>\n",
       "      <th>PassengerId</th>\n",
       "      <th>Pclass</th>\n",
       "      <th>Age</th>\n",
       "      <th>SibSp</th>\n",
       "      <th>Parch</th>\n",
       "      <th>Fare</th>\n",
       "      <th>Sex_female</th>\n",
       "      <th>Sex_male</th>\n",
       "      <th>Embarked_C</th>\n",
       "      <th>Embarked_Q</th>\n",
       "      <th>Embarked_S</th>\n",
       "    </tr>\n",
       "  </thead>\n",
       "  <tbody>\n",
       "    <tr>\n",
       "      <th>0</th>\n",
       "      <td>892</td>\n",
       "      <td>3</td>\n",
       "      <td>34.5</td>\n",
       "      <td>0</td>\n",
       "      <td>0</td>\n",
       "      <td>7.8292</td>\n",
       "      <td>0</td>\n",
       "      <td>1</td>\n",
       "      <td>0</td>\n",
       "      <td>1</td>\n",
       "      <td>0</td>\n",
       "    </tr>\n",
       "    <tr>\n",
       "      <th>1</th>\n",
       "      <td>893</td>\n",
       "      <td>3</td>\n",
       "      <td>47.0</td>\n",
       "      <td>1</td>\n",
       "      <td>0</td>\n",
       "      <td>7.0000</td>\n",
       "      <td>1</td>\n",
       "      <td>0</td>\n",
       "      <td>0</td>\n",
       "      <td>0</td>\n",
       "      <td>1</td>\n",
       "    </tr>\n",
       "    <tr>\n",
       "      <th>2</th>\n",
       "      <td>894</td>\n",
       "      <td>2</td>\n",
       "      <td>62.0</td>\n",
       "      <td>0</td>\n",
       "      <td>0</td>\n",
       "      <td>9.6875</td>\n",
       "      <td>0</td>\n",
       "      <td>1</td>\n",
       "      <td>0</td>\n",
       "      <td>1</td>\n",
       "      <td>0</td>\n",
       "    </tr>\n",
       "    <tr>\n",
       "      <th>3</th>\n",
       "      <td>895</td>\n",
       "      <td>3</td>\n",
       "      <td>27.0</td>\n",
       "      <td>0</td>\n",
       "      <td>0</td>\n",
       "      <td>8.6625</td>\n",
       "      <td>0</td>\n",
       "      <td>1</td>\n",
       "      <td>0</td>\n",
       "      <td>0</td>\n",
       "      <td>1</td>\n",
       "    </tr>\n",
       "    <tr>\n",
       "      <th>4</th>\n",
       "      <td>896</td>\n",
       "      <td>3</td>\n",
       "      <td>22.0</td>\n",
       "      <td>1</td>\n",
       "      <td>1</td>\n",
       "      <td>12.2875</td>\n",
       "      <td>1</td>\n",
       "      <td>0</td>\n",
       "      <td>0</td>\n",
       "      <td>0</td>\n",
       "      <td>1</td>\n",
       "    </tr>\n",
       "  </tbody>\n",
       "</table>\n",
       "</div>"
      ],
      "text/plain": [
       "   PassengerId  Pclass   Age  SibSp  Parch     Fare  Sex_female  Sex_male  \\\n",
       "0          892       3  34.5      0      0   7.8292           0         1   \n",
       "1          893       3  47.0      1      0   7.0000           1         0   \n",
       "2          894       2  62.0      0      0   9.6875           0         1   \n",
       "3          895       3  27.0      0      0   8.6625           0         1   \n",
       "4          896       3  22.0      1      1  12.2875           1         0   \n",
       "\n",
       "   Embarked_C  Embarked_Q  Embarked_S  \n",
       "0           0           1           0  \n",
       "1           0           0           1  \n",
       "2           0           1           0  \n",
       "3           0           0           1  \n",
       "4           0           0           1  "
      ]
     },
     "execution_count": 14,
     "metadata": {},
     "output_type": "execute_result"
    }
   ],
   "source": [
    "X_test = test_data\n",
    "X_test = pd.get_dummies(X_test)\n",
    "X_test.head()"
   ]
  },
  {
   "cell_type": "markdown",
   "id": "8bd972c1",
   "metadata": {
    "papermill": {
     "duration": 0.023296,
     "end_time": "2022-01-06T15:56:19.996783",
     "exception": false,
     "start_time": "2022-01-06T15:56:19.973487",
     "status": "completed"
    },
    "tags": []
   },
   "source": [
    "Standarization"
   ]
  },
  {
   "cell_type": "code",
   "execution_count": 15,
   "id": "e5b9044b",
   "metadata": {
    "execution": {
     "iopub.execute_input": "2022-01-06T15:56:20.052826Z",
     "iopub.status.busy": "2022-01-06T15:56:20.051787Z",
     "iopub.status.idle": "2022-01-06T15:56:20.062763Z",
     "shell.execute_reply": "2022-01-06T15:56:20.063304Z",
     "shell.execute_reply.started": "2022-01-06T15:55:44.652142Z"
    },
    "papermill": {
     "duration": 0.041546,
     "end_time": "2022-01-06T15:56:20.063476",
     "exception": false,
     "start_time": "2022-01-06T15:56:20.021930",
     "status": "completed"
    },
    "tags": []
   },
   "outputs": [],
   "source": [
    "X_std = (X-X.mean())/X.std()\n",
    "X_test_std = (X_test - X_test.mean())/X_test.std()"
   ]
  },
  {
   "cell_type": "code",
   "execution_count": 16,
   "id": "2d36480a",
   "metadata": {
    "execution": {
     "iopub.execute_input": "2022-01-06T15:56:20.115778Z",
     "iopub.status.busy": "2022-01-06T15:56:20.114861Z",
     "iopub.status.idle": "2022-01-06T15:56:21.607850Z",
     "shell.execute_reply": "2022-01-06T15:56:21.607316Z",
     "shell.execute_reply.started": "2022-01-06T15:55:44.666755Z"
    },
    "papermill": {
     "duration": 1.52012,
     "end_time": "2022-01-06T15:56:21.607986",
     "exception": false,
     "start_time": "2022-01-06T15:56:20.087866",
     "status": "completed"
    },
    "tags": []
   },
   "outputs": [
    {
     "data": {
      "text/plain": [
       "RandomForestClassifier(max_depth=5, random_state=1)"
      ]
     },
     "execution_count": 16,
     "metadata": {},
     "output_type": "execute_result"
    }
   ],
   "source": [
    "from sklearn.ensemble import RandomForestClassifier\n",
    "rf_std = RandomForestClassifier(n_estimators=100, max_depth=5, random_state=1)\n",
    "rf_std.fit(X_std, Y)"
   ]
  },
  {
   "cell_type": "code",
   "execution_count": 17,
   "id": "1635c1ba",
   "metadata": {
    "execution": {
     "iopub.execute_input": "2022-01-06T15:56:21.660070Z",
     "iopub.status.busy": "2022-01-06T15:56:21.659384Z",
     "iopub.status.idle": "2022-01-06T15:56:21.675477Z",
     "shell.execute_reply": "2022-01-06T15:56:21.675981Z",
     "shell.execute_reply.started": "2022-01-06T15:55:44.889745Z"
    },
    "papermill": {
     "duration": 0.044517,
     "end_time": "2022-01-06T15:56:21.676159",
     "exception": false,
     "start_time": "2022-01-06T15:56:21.631642",
     "status": "completed"
    },
    "tags": []
   },
   "outputs": [],
   "source": [
    "predictions = rf_std.predict(X_test_std)"
   ]
  },
  {
   "cell_type": "code",
   "execution_count": 18,
   "id": "dabe83fb",
   "metadata": {
    "execution": {
     "iopub.execute_input": "2022-01-06T15:56:21.729114Z",
     "iopub.status.busy": "2022-01-06T15:56:21.728466Z",
     "iopub.status.idle": "2022-01-06T15:56:21.734836Z",
     "shell.execute_reply": "2022-01-06T15:56:21.735340Z",
     "shell.execute_reply.started": "2022-01-06T15:55:44.911990Z"
    },
    "papermill": {
     "duration": 0.036032,
     "end_time": "2022-01-06T15:56:21.735496",
     "exception": false,
     "start_time": "2022-01-06T15:56:21.699464",
     "status": "completed"
    },
    "tags": []
   },
   "outputs": [
    {
     "name": "stdout",
     "output_type": "stream",
     "text": [
      "Your submission was successfully saved!\n"
     ]
    }
   ],
   "source": [
    "output = pd.DataFrame({'PassengerId': test_data.PassengerId, 'Survived': predictions})\n",
    "output.to_csv('subm.csv', index=False)\n",
    "print(\"Your submission was successfully saved!\")"
   ]
  },
  {
   "cell_type": "code",
   "execution_count": null,
   "id": "4249effb",
   "metadata": {
    "papermill": {
     "duration": 0.023551,
     "end_time": "2022-01-06T15:56:21.782787",
     "exception": false,
     "start_time": "2022-01-06T15:56:21.759236",
     "status": "completed"
    },
    "tags": []
   },
   "outputs": [],
   "source": []
  }
 ],
 "metadata": {
  "kernelspec": {
   "display_name": "Python 3",
   "language": "python",
   "name": "python3"
  },
  "language_info": {
   "codemirror_mode": {
    "name": "ipython",
    "version": 3
   },
   "file_extension": ".py",
   "mimetype": "text/x-python",
   "name": "python",
   "nbconvert_exporter": "python",
   "pygments_lexer": "ipython3",
   "version": "3.7.12"
  },
  "papermill": {
   "default_parameters": {},
   "duration": 13.556332,
   "end_time": "2022-01-06T15:56:22.515753",
   "environment_variables": {},
   "exception": null,
   "input_path": "__notebook__.ipynb",
   "output_path": "__notebook__.ipynb",
   "parameters": {},
   "start_time": "2022-01-06T15:56:08.959421",
   "version": "2.3.3"
  }
 },
 "nbformat": 4,
 "nbformat_minor": 5
}
